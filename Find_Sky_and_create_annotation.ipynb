{
  "nbformat": 4,
  "nbformat_minor": 0,
  "metadata": {
    "colab": {
      "provenance": [],
      "authorship_tag": "ABX9TyPWSFHvufsnI8wqBFhWWVf3",
      "include_colab_link": true
    },
    "kernelspec": {
      "name": "python3",
      "display_name": "Python 3"
    },
    "language_info": {
      "name": "python"
    }
  },
  "cells": [
    {
      "cell_type": "markdown",
      "metadata": {
        "id": "view-in-github",
        "colab_type": "text"
      },
      "source": [
        "<a href=\"https://colab.research.google.com/github/harsh1532/Arbitrage-Opportunity/blob/main/Find_Sky_and_create_annotation.ipynb\" target=\"_parent\"><img src=\"https://colab.research.google.com/assets/colab-badge.svg\" alt=\"Open In Colab\"/></a>"
      ]
    },
    {
      "cell_type": "code",
      "execution_count": 1,
      "metadata": {
        "colab": {
          "base_uri": "https://localhost:8080/",
          "height": 356
        },
        "id": "HS9n2gEXL86N",
        "outputId": "1e20c269-b738-4e2d-9da1-216a350c81f1"
      },
      "outputs": [
        {
          "output_type": "error",
          "ename": "error",
          "evalue": "ignored",
          "traceback": [
            "\u001b[0;31m---------------------------------------------------------------------------\u001b[0m",
            "\u001b[0;31merror\u001b[0m                                     Traceback (most recent call last)",
            "\u001b[0;32m<ipython-input-1-f5275c8adee5>\u001b[0m in \u001b[0;36m<cell line: 28>\u001b[0;34m()\u001b[0m\n\u001b[1;32m     26\u001b[0m \u001b[0;31m# Example usage\u001b[0m\u001b[0;34m\u001b[0m\u001b[0;34m\u001b[0m\u001b[0m\n\u001b[1;32m     27\u001b[0m \u001b[0mimage_path\u001b[0m \u001b[0;34m=\u001b[0m \u001b[0;34m'path/to/your/image.jpg'\u001b[0m\u001b[0;34m\u001b[0m\u001b[0;34m\u001b[0m\u001b[0m\n\u001b[0;32m---> 28\u001b[0;31m \u001b[0;32mif\u001b[0m \u001b[0mhas_sky\u001b[0m\u001b[0;34m(\u001b[0m\u001b[0mimage_path\u001b[0m\u001b[0;34m)\u001b[0m\u001b[0;34m:\u001b[0m\u001b[0;34m\u001b[0m\u001b[0;34m\u001b[0m\u001b[0m\n\u001b[0m\u001b[1;32m     29\u001b[0m     \u001b[0mprint\u001b[0m\u001b[0;34m(\u001b[0m\u001b[0;34m\"The image contains the sky.\"\u001b[0m\u001b[0;34m)\u001b[0m\u001b[0;34m\u001b[0m\u001b[0;34m\u001b[0m\u001b[0m\n\u001b[1;32m     30\u001b[0m \u001b[0;32melse\u001b[0m\u001b[0;34m:\u001b[0m\u001b[0;34m\u001b[0m\u001b[0;34m\u001b[0m\u001b[0m\n",
            "\u001b[0;32m<ipython-input-1-f5275c8adee5>\u001b[0m in \u001b[0;36mhas_sky\u001b[0;34m(image_path)\u001b[0m\n\u001b[1;32m      6\u001b[0m \u001b[0;34m\u001b[0m\u001b[0m\n\u001b[1;32m      7\u001b[0m     \u001b[0;31m# Convert the image to grayscale\u001b[0m\u001b[0;34m\u001b[0m\u001b[0;34m\u001b[0m\u001b[0m\n\u001b[0;32m----> 8\u001b[0;31m     \u001b[0mgray\u001b[0m \u001b[0;34m=\u001b[0m \u001b[0mcv2\u001b[0m\u001b[0;34m.\u001b[0m\u001b[0mcvtColor\u001b[0m\u001b[0;34m(\u001b[0m\u001b[0mimage\u001b[0m\u001b[0;34m,\u001b[0m \u001b[0mcv2\u001b[0m\u001b[0;34m.\u001b[0m\u001b[0mCOLOR_BGR2GRAY\u001b[0m\u001b[0;34m)\u001b[0m\u001b[0;34m\u001b[0m\u001b[0;34m\u001b[0m\u001b[0m\n\u001b[0m\u001b[1;32m      9\u001b[0m \u001b[0;34m\u001b[0m\u001b[0m\n\u001b[1;32m     10\u001b[0m     \u001b[0;31m# Apply edge detection to identify prominent edges\u001b[0m\u001b[0;34m\u001b[0m\u001b[0;34m\u001b[0m\u001b[0m\n",
            "\u001b[0;31merror\u001b[0m: OpenCV(4.7.0) /io/opencv/modules/imgproc/src/color.cpp:182: error: (-215:Assertion failed) !_src.empty() in function 'cvtColor'\n"
          ]
        }
      ],
      "source": [
        "import cv2\n",
        "\n",
        "def has_sky(image_path):\n",
        "    # Load the image\n",
        "    image = cv2.imread(image_path)\n",
        "\n",
        "    # Convert the image to grayscale\n",
        "    gray = cv2.cvtColor(image, cv2.COLOR_BGR2GRAY)\n",
        "\n",
        "    # Apply edge detection to identify prominent edges\n",
        "    edges = cv2.Canny(gray, 50, 150)\n",
        "\n",
        "    # Apply a Hough transform to detect lines in the image\n",
        "    lines = cv2.HoughLinesP(edges, 1, cv2.cv.CV_PI/180, 100, minLineLength=100, maxLineGap=10)\n",
        "\n",
        "    # Check if any lines are detected\n",
        "    if lines is not None:\n",
        "        for line in lines:\n",
        "            x1, y1, x2, y2 = line[0]\n",
        "            # Check if the line is close to the top of the image\n",
        "            if y1 < 0.1 * image.shape[0]:\n",
        "                return True\n",
        "\n",
        "    return False\n",
        "\n",
        "# Example usage\n",
        "image_path = 'path/to/your/image.jpg'\n",
        "if has_sky(image_path):\n",
        "    print(\"The image contains the sky.\")\n",
        "else:\n",
        "    print(\"The image does not contain the sky.\")\n"
      ]
    },
    {
      "cell_type": "code",
      "source": [
        "import json\n",
        "\n",
        "def create_coco_annotation(image_id, category_id, bbox):\n",
        "    annotation = {\n",
        "        'id': 0,  # Unique identifier for the annotation (you can use any unique value here)\n",
        "        'image_id': image_id,  # ID of the corresponding image\n",
        "        'category_id': category_id,  # ID of the object category\n",
        "        'bbox': bbox,  # Bounding box coordinates [x, y, width, height]\n",
        "        'area': bbox[2] * bbox[3],  # Area of the bounding box\n",
        "        'iscrowd': 0  # Flag indicating whether the annotation represents a single object (0) or a group of objects (1)\n",
        "    }\n",
        "    return annotation\n",
        "\n",
        "# Example usage\n",
        "image_id = 0  # Unique identifier for the image\n",
        "category_id = 1  # Unique identifier for the object category (e.g., sky)\n",
        "bbox = [10, 20, 100, 80]  # Bounding box coordinates [x, y, width, height]\n",
        "\n",
        "annotation = create_coco_annotation(image_id, category_id, bbox)\n",
        "print(annotation)"
      ],
      "metadata": {
        "colab": {
          "base_uri": "https://localhost:8080/"
        },
        "id": "nJAml6AMMLby",
        "outputId": "a3e5d32c-b228-4ec2-c766-63f164c046a2"
      },
      "execution_count": 2,
      "outputs": [
        {
          "output_type": "stream",
          "name": "stdout",
          "text": [
            "{'id': 0, 'image_id': 0, 'category_id': 1, 'bbox': [10, 20, 100, 80], 'area': 8000, 'iscrowd': 0}\n"
          ]
        }
      ]
    },
    {
      "cell_type": "code",
      "source": [],
      "metadata": {
        "id": "HGCVYCZ3MPlg"
      },
      "execution_count": null,
      "outputs": []
    }
  ]
}